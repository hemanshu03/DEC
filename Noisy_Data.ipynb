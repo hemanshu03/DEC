{
  "nbformat": 4,
  "nbformat_minor": 0,
  "metadata": {
    "colab": {
      "provenance": []
    },
    "kernelspec": {
      "name": "python3",
      "display_name": "Python 3"
    },
    "language_info": {
      "name": "python"
    }
  },
  "cells": [
    {
      "cell_type": "markdown",
      "source": [
        "#  Name -> Deven Chhajed\n",
        "# Roll No-> 32\n",
        "# Batch -> B1 (CSE)\n",
        "# Prn -> 1032210789\n",
        "# Noisy Data\n",
        "# Data Smoothening: Binning Types"
      ],
      "metadata": {
        "id": "TwpHAUSYcrz1"
      }
    },
    {
      "cell_type": "markdown",
      "source": [
        "# Importing the Libraries"
      ],
      "metadata": {
        "id": "H7gGQ7-wdEGT"
      }
    },
    {
      "cell_type": "markdown",
      "source": [
        "**import numpy as np:** By including 'import numpy as np' in Python, you gain access to NumPy, a vital numerical computing library. NumPy provides robust support for arrays, matrices, and mathematical functions, making it a cornerstone for scientific and mathematical computations.\n",
        "\n",
        "**import pandas as pd**: Pandas, a Python library for data manipulation and analysis, offers essential data structures such as DataFrames and Series to facilitate efficient data handling and analysis.\n",
        "\n",
        "**import matplotlib.pyplot as plt:** matplotlib.pyplot simplifies the creation of diverse plots like lines, bars, scatter plots, and histograms, supporting static, animated, or interactive data visualizations.\n",
        "\n",
        "**import math:** By importing the 'math' module in Python, you can tap into a comprehensive collection of mathematical functions and constants. These include trigonometric functions, logarithms, and fundamental mathematical constants like pi and e, all of which are essential for a wide array of mathematical calculations and operations."
      ],
      "metadata": {
        "id": "mPRTuviddPeq"
      }
    },
    {
      "cell_type": "code",
      "source": [
        "import numpy as np\n",
        "import pandas as pd\n",
        "import matplotlib.pyplot as plt\n",
        "import math"
      ],
      "metadata": {
        "id": "YtM0HXnWdEUt"
      },
      "execution_count": 2,
      "outputs": []
    },
    {
      "cell_type": "markdown",
      "source": [
        "## Data Smoothening:\n",
        "Data smoothing is a technique used to reduce noise in a dataset by applying mathematical methods. It involves creating a smoother version of the data to reveal underlying patterns or trends while removing random fluctuations. Common methods include moving averages, exponential smoothing, and filters, each with its own way of reducing data noise. Data smoothing is useful in various fields, such as signal processing and time series analysis, to improve data interpretation and analysis.\n",
        "\n",
        "## Data Smoothening Importance:\n",
        "* Noise Reduction: Reduces random fluctuations in data.\n",
        "\n",
        "* Visualization: Enhances data visualization and interpretation.\n",
        "\n",
        "* Analysis: Stabilizes statistical analyses and machine learning.\n",
        "\n",
        "* Forecasting: Improves prediction accuracy in time series data.\n",
        "\n",
        "* Control Systems: Essential for stabilizing control systems.\n",
        "\n",
        "* Signal Processing: Filters out unwanted noise in signals.\n",
        "\n",
        "* Market Analysis: Aids trend identification and decision-making.\n",
        "\n",
        "* Data Quality: Cleans data by removing outliers.\n",
        "\n",
        "* Sensor Data: Ensures accurate readings in IoT and sensors.\n",
        "\n",
        "## Data Smoothening Techniques:\n",
        "\n",
        "**1. Equal Width Binning:** Equal width binning is a data preprocessing technique that involves dividing continuous data into a specified number of equal-width intervals or bins.\n",
        "Binning by mean is a data preprocessing technique that involves grouping data points into bins or intervals based on their proximity to the mean (average) value of the data. This technique is used to create bins where each bin's center corresponds to the mean value of the data within that bin.\n",
        "\n",
        "\n",
        "**2. Binning by Mean:** Binning by mean is a data preprocessing technique that involves grouping data points into bins or intervals based on their proximity to the mean (average) value of the data. This technique is used to create bins where each bin's center corresponds to the mean value of the data within that bin.\n",
        "\n",
        "**3. Equal Frequency Binning:** Equal frequency binning, also known as equi-depth or quantile binning, is a data preprocessing technique used to discretize continuous numerical data into a set of bins or intervals such that each bin contains approximately the same number of data points. This technique is particularly useful when you want to ensure that each bin represents an equal portion of the dataset, making it suitable for handling skewed data distributions.\n",
        "\n",
        "\n",
        "**4. Custom Binning:** Custom binning, also known as manual or user-defined binning, is a data preprocessing technique where you define bins or intervals based on your domain knowledge, specific requirements, or insights about the data. Unlike other binning techniques that use automated rules, custom binning allows you to group data points into bins according to your expertise and understanding of the data.\n",
        "\n",
        "**5. Binning by Boundary:** Binning by boundary is a data preprocessing technique that involves dividing a dataset into bins or intervals based on predefined boundaries or thresholds. Instead of using statistical measures or automated rules, binning by boundary relies on specific values you choose to separate the data into meaningful categories or ranges.\n",
        "\n",
        "**5. Binning by Median:** Binning by median is a data preprocessing technique that involves dividing a dataset into bins or intervals based on the median value of the data. This approach creates bins that balance the data distribution around the median, which is the middle value of a sorted dataset.\n",
        "\n",
        "\n"
      ],
      "metadata": {
        "id": "0P_y7a0Lc78I"
      }
    },
    {
      "cell_type": "code",
      "source": [
        "d = [0, 4, 12, 16, 16, 18, 24, 26, 28]\n",
        "d"
      ],
      "metadata": {
        "colab": {
          "base_uri": "https://localhost:8080/"
        },
        "id": "BEa9vhnpc8qc",
        "outputId": "a96604e0-41f4-4a59-dde0-fa60616777e2"
      },
      "execution_count": 3,
      "outputs": [
        {
          "output_type": "execute_result",
          "data": {
            "text/plain": [
              "[0, 4, 12, 16, 16, 18, 24, 26, 28]"
            ]
          },
          "metadata": {},
          "execution_count": 3
        }
      ]
    },
    {
      "cell_type": "code",
      "source": [
        "d.sort()\n",
        "d"
      ],
      "metadata": {
        "colab": {
          "base_uri": "https://localhost:8080/"
        },
        "id": "e-evOZfedcEQ",
        "outputId": "341c3c01-fd66-4188-be4f-6c0145c441bc"
      },
      "execution_count": 4,
      "outputs": [
        {
          "output_type": "execute_result",
          "data": {
            "text/plain": [
              "[0, 4, 12, 16, 16, 18, 24, 26, 28]"
            ]
          },
          "metadata": {},
          "execution_count": 4
        }
      ]
    },
    {
      "cell_type": "markdown",
      "source": [
        "# Binning by Equal Frequency:"
      ],
      "metadata": {
        "id": "Im6A8OWQdefV"
      }
    },
    {
      "cell_type": "code",
      "source": [
        "r=max(d)-min(d)\n",
        "print('Range of list is: ',r)"
      ],
      "metadata": {
        "colab": {
          "base_uri": "https://localhost:8080/"
        },
        "id": "dF-be1Wcde_t",
        "outputId": "27b8ff57-cbd6-4097-f81b-d0a19ddabfaa"
      },
      "execution_count": 5,
      "outputs": [
        {
          "output_type": "stream",
          "name": "stdout",
          "text": [
            "Range of list is:  28\n"
          ]
        }
      ]
    },
    {
      "cell_type": "code",
      "source": [
        "b=r/len(d)\n",
        "bins=math.floor(b)\n",
        "bins"
      ],
      "metadata": {
        "colab": {
          "base_uri": "https://localhost:8080/"
        },
        "id": "x6vkOdpddj6R",
        "outputId": "c4b69b64-6fe6-4954-a88b-756bec7f45b3"
      },
      "execution_count": 6,
      "outputs": [
        {
          "output_type": "execute_result",
          "data": {
            "text/plain": [
              "3"
            ]
          },
          "metadata": {},
          "execution_count": 6
        }
      ]
    },
    {
      "cell_type": "code",
      "source": [
        "bin1=np.zeros((bins,bins))\n",
        "bin1"
      ],
      "metadata": {
        "colab": {
          "base_uri": "https://localhost:8080/"
        },
        "id": "P5z2TG5Udlmj",
        "outputId": "37f4d8e2-0b87-450d-fc13-2526b06e0099"
      },
      "execution_count": 7,
      "outputs": [
        {
          "output_type": "execute_result",
          "data": {
            "text/plain": [
              "array([[0., 0., 0.],\n",
              "       [0., 0., 0.],\n",
              "       [0., 0., 0.]])"
            ]
          },
          "metadata": {},
          "execution_count": 7
        }
      ]
    },
    {
      "cell_type": "code",
      "source": [
        "a=0\n",
        "while(a<len(d)):\n",
        "\tfor i in range(0,bins):\n",
        "\t\tfor j in range(0, bins):\n",
        "\t\t\tbin1[i, j] = d[a]\n",
        "\t\t\ta += 1"
      ],
      "metadata": {
        "id": "871YHzycdnXc"
      },
      "execution_count": 9,
      "outputs": []
    },
    {
      "cell_type": "code",
      "source": [
        "bin1"
      ],
      "metadata": {
        "colab": {
          "base_uri": "https://localhost:8080/"
        },
        "id": "8UVDAMYveAnr",
        "outputId": "a35b0566-45f8-4d44-9307-eae18fc5851f"
      },
      "execution_count": 10,
      "outputs": [
        {
          "output_type": "execute_result",
          "data": {
            "text/plain": [
              "array([[ 0.,  4., 12.],\n",
              "       [16., 16., 18.],\n",
              "       [24., 26., 28.]])"
            ]
          },
          "metadata": {},
          "execution_count": 10
        }
      ]
    },
    {
      "cell_type": "markdown",
      "source": [
        "# Binning by Mean:"
      ],
      "metadata": {
        "id": "vAAUeSw9eGor"
      }
    },
    {
      "cell_type": "code",
      "source": [
        "bin2=np.zeros((bins,bins))\n",
        "bin2"
      ],
      "metadata": {
        "colab": {
          "base_uri": "https://localhost:8080/"
        },
        "id": "XPQra_aseIj0",
        "outputId": "549ab50b-4758-467c-f1e5-1914ca36ef8f"
      },
      "execution_count": 11,
      "outputs": [
        {
          "output_type": "execute_result",
          "data": {
            "text/plain": [
              "array([[0., 0., 0.],\n",
              "       [0., 0., 0.],\n",
              "       [0., 0., 0.]])"
            ]
          },
          "metadata": {},
          "execution_count": 11
        }
      ]
    },
    {
      "cell_type": "code",
      "source": [
        "for i in range(0,len(d),bins):\n",
        "\tmean=(d[i]+d[i+1]+d[i+2])/bins\n",
        "\tk=int(i/bins)\n",
        "\tfor j in range(0,bins):\n",
        "\t\tbin2[k,j]=mean\n",
        "bin2"
      ],
      "metadata": {
        "colab": {
          "base_uri": "https://localhost:8080/"
        },
        "id": "0G3E3hNteLo9",
        "outputId": "9836ff6a-7d33-4597-cbd3-9843ae11cee3"
      },
      "execution_count": 12,
      "outputs": [
        {
          "output_type": "execute_result",
          "data": {
            "text/plain": [
              "array([[ 5.33333333,  5.33333333,  5.33333333],\n",
              "       [16.66666667, 16.66666667, 16.66666667],\n",
              "       [26.        , 26.        , 26.        ]])"
            ]
          },
          "metadata": {},
          "execution_count": 12
        }
      ]
    },
    {
      "cell_type": "markdown",
      "source": [
        "# Binning by Bin Boundary"
      ],
      "metadata": {
        "id": "RY1hN3PQeNiV"
      }
    },
    {
      "cell_type": "code",
      "source": [
        "bin3=np.zeros((bins,bins))\n",
        "bin3"
      ],
      "metadata": {
        "colab": {
          "base_uri": "https://localhost:8080/"
        },
        "id": "zNZbwW_AeOJ4",
        "outputId": "cb254fb9-6d51-4353-a50c-dfe1e5469f66"
      },
      "execution_count": 13,
      "outputs": [
        {
          "output_type": "execute_result",
          "data": {
            "text/plain": [
              "array([[0., 0., 0.],\n",
              "       [0., 0., 0.],\n",
              "       [0., 0., 0.]])"
            ]
          },
          "metadata": {},
          "execution_count": 13
        }
      ]
    },
    {
      "cell_type": "code",
      "source": [
        "for i in range (0,len(d),bins):\n",
        "    k=int(i/bins)\n",
        "    for j in range (bins):\n",
        "        if (d[i+j]-d[i]) < (d[i+2]-d[i+j]):\n",
        "            bin3[k,j]=d[i]\n",
        "        else:\n",
        "            bin3[k,j]=d[i+2]\n",
        "bin3"
      ],
      "metadata": {
        "colab": {
          "base_uri": "https://localhost:8080/"
        },
        "id": "gCo-2HIieRsT",
        "outputId": "35a8b8d5-af00-44bb-d011-6c21b660407b"
      },
      "execution_count": 15,
      "outputs": [
        {
          "output_type": "execute_result",
          "data": {
            "text/plain": [
              "array([[ 0.,  0., 12.],\n",
              "       [16., 16., 18.],\n",
              "       [24., 28., 28.]])"
            ]
          },
          "metadata": {},
          "execution_count": 15
        }
      ]
    }
  ]
}