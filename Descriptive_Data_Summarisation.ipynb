{
  "nbformat": 4,
  "nbformat_minor": 0,
  "metadata": {
    "colab": {
      "provenance": []
    },
    "kernelspec": {
      "name": "python3",
      "display_name": "Python 3"
    },
    "language_info": {
      "name": "python"
    }
  },
  "cells": [
    {
      "cell_type": "markdown",
      "source": [
        "#  Name -> Deven Chhajed\n",
        "# Roll No-> 32\n",
        "# Batch -> B1 (CSE)\n",
        "# Prn -> 1032210789\n",
        "# Descriptive Data Summarisation"
      ],
      "metadata": {
        "id": "X_eObpxlKY-P"
      }
    },
    {
      "cell_type": "markdown",
      "source": [
        "**import pandas as pd**: Pandas, a Python library for data manipulation and analysis, offers essential data structures such as DataFrames and Series to facilitate efficient data handling and analysis.\n",
        "\n",
        "**import numpy as np:** By including 'import numpy as np' in Python, you gain access to NumPy, a vital numerical computing library. NumPy provides robust support for arrays, matrices, and mathematical functions, making it a cornerstone for scientific and mathematical computations.\n",
        "\n",
        "**import matplotlib.pyplot as plt:** matplotlib.pyplot simplifies the creation of diverse plots like lines, bars, scatter plots, and histograms, supporting static, animated, or interactive data visualizations.\n",
        "\n",
        "**import statistics as st:**\n",
        "The command import statistics as st in Python is used to import the built-in statistics module.\n",
        "\n",
        "**import math:** By importing the 'math' module in Python, you can tap into a comprehensive collection of mathematical functions and constants. These include trigonometric functions, logarithms, and fundamental mathematical constants like pi and e, all of which are essential for a wide array of mathematical calculations and operations."
      ],
      "metadata": {
        "id": "vj1IqwmcKju5"
      }
    },
    {
      "cell_type": "markdown",
      "source": [
        "# Importing the Libraries"
      ],
      "metadata": {
        "id": "R7bknOTpLrdG"
      }
    },
    {
      "cell_type": "code",
      "execution_count": 9,
      "metadata": {
        "id": "AM1CE-s5Tj4b"
      },
      "outputs": [],
      "source": [
        "import pandas as pd\n",
        "import numpy as np\n",
        "import matplotlib.pyplot as mp\n",
        "import statistics as st\n",
        "import math"
      ]
    },
    {
      "cell_type": "code",
      "source": [
        "dataset= [11,10,12,14,12,15,14,13,15,102,12,14,17,19,107,10,13,12,14,12,108,12,11,14,13,15,10,15,12,10,14,13,15,10]\n",
        "dataset"
      ],
      "metadata": {
        "colab": {
          "base_uri": "https://localhost:8080/"
        },
        "id": "-i7w29KvWeF3",
        "outputId": "ef1c1ab6-0d6f-4802-851a-b98572e566cd"
      },
      "execution_count": 10,
      "outputs": [
        {
          "output_type": "execute_result",
          "data": {
            "text/plain": [
              "[11,\n",
              " 10,\n",
              " 12,\n",
              " 14,\n",
              " 12,\n",
              " 15,\n",
              " 14,\n",
              " 13,\n",
              " 15,\n",
              " 102,\n",
              " 12,\n",
              " 14,\n",
              " 17,\n",
              " 19,\n",
              " 107,\n",
              " 10,\n",
              " 13,\n",
              " 12,\n",
              " 14,\n",
              " 12,\n",
              " 108,\n",
              " 12,\n",
              " 11,\n",
              " 14,\n",
              " 13,\n",
              " 15,\n",
              " 10,\n",
              " 15,\n",
              " 12,\n",
              " 10,\n",
              " 14,\n",
              " 13,\n",
              " 15,\n",
              " 10]"
            ]
          },
          "metadata": {},
          "execution_count": 10
        }
      ]
    },
    {
      "cell_type": "markdown",
      "source": [
        "# Creating the Data Frame"
      ],
      "metadata": {
        "id": "531V5RjHMGsv"
      }
    },
    {
      "cell_type": "code",
      "source": [
        "df=pd.DataFrame(dataset)\n",
        "df"
      ],
      "metadata": {
        "colab": {
          "base_uri": "https://localhost:8080/",
          "height": 1000
        },
        "id": "GYL5WOODWk7q",
        "outputId": "c94855fa-57b9-4b1f-9eb4-e016fd4cb887"
      },
      "execution_count": 11,
      "outputs": [
        {
          "output_type": "execute_result",
          "data": {
            "text/plain": [
              "      0\n",
              "0    11\n",
              "1    10\n",
              "2    12\n",
              "3    14\n",
              "4    12\n",
              "5    15\n",
              "6    14\n",
              "7    13\n",
              "8    15\n",
              "9   102\n",
              "10   12\n",
              "11   14\n",
              "12   17\n",
              "13   19\n",
              "14  107\n",
              "15   10\n",
              "16   13\n",
              "17   12\n",
              "18   14\n",
              "19   12\n",
              "20  108\n",
              "21   12\n",
              "22   11\n",
              "23   14\n",
              "24   13\n",
              "25   15\n",
              "26   10\n",
              "27   15\n",
              "28   12\n",
              "29   10\n",
              "30   14\n",
              "31   13\n",
              "32   15\n",
              "33   10"
            ],
            "text/html": [
              "\n",
              "  <div id=\"df-dad0c477-25e0-4b14-b556-2bc379223a54\" class=\"colab-df-container\">\n",
              "    <div>\n",
              "<style scoped>\n",
              "    .dataframe tbody tr th:only-of-type {\n",
              "        vertical-align: middle;\n",
              "    }\n",
              "\n",
              "    .dataframe tbody tr th {\n",
              "        vertical-align: top;\n",
              "    }\n",
              "\n",
              "    .dataframe thead th {\n",
              "        text-align: right;\n",
              "    }\n",
              "</style>\n",
              "<table border=\"1\" class=\"dataframe\">\n",
              "  <thead>\n",
              "    <tr style=\"text-align: right;\">\n",
              "      <th></th>\n",
              "      <th>0</th>\n",
              "    </tr>\n",
              "  </thead>\n",
              "  <tbody>\n",
              "    <tr>\n",
              "      <th>0</th>\n",
              "      <td>11</td>\n",
              "    </tr>\n",
              "    <tr>\n",
              "      <th>1</th>\n",
              "      <td>10</td>\n",
              "    </tr>\n",
              "    <tr>\n",
              "      <th>2</th>\n",
              "      <td>12</td>\n",
              "    </tr>\n",
              "    <tr>\n",
              "      <th>3</th>\n",
              "      <td>14</td>\n",
              "    </tr>\n",
              "    <tr>\n",
              "      <th>4</th>\n",
              "      <td>12</td>\n",
              "    </tr>\n",
              "    <tr>\n",
              "      <th>5</th>\n",
              "      <td>15</td>\n",
              "    </tr>\n",
              "    <tr>\n",
              "      <th>6</th>\n",
              "      <td>14</td>\n",
              "    </tr>\n",
              "    <tr>\n",
              "      <th>7</th>\n",
              "      <td>13</td>\n",
              "    </tr>\n",
              "    <tr>\n",
              "      <th>8</th>\n",
              "      <td>15</td>\n",
              "    </tr>\n",
              "    <tr>\n",
              "      <th>9</th>\n",
              "      <td>102</td>\n",
              "    </tr>\n",
              "    <tr>\n",
              "      <th>10</th>\n",
              "      <td>12</td>\n",
              "    </tr>\n",
              "    <tr>\n",
              "      <th>11</th>\n",
              "      <td>14</td>\n",
              "    </tr>\n",
              "    <tr>\n",
              "      <th>12</th>\n",
              "      <td>17</td>\n",
              "    </tr>\n",
              "    <tr>\n",
              "      <th>13</th>\n",
              "      <td>19</td>\n",
              "    </tr>\n",
              "    <tr>\n",
              "      <th>14</th>\n",
              "      <td>107</td>\n",
              "    </tr>\n",
              "    <tr>\n",
              "      <th>15</th>\n",
              "      <td>10</td>\n",
              "    </tr>\n",
              "    <tr>\n",
              "      <th>16</th>\n",
              "      <td>13</td>\n",
              "    </tr>\n",
              "    <tr>\n",
              "      <th>17</th>\n",
              "      <td>12</td>\n",
              "    </tr>\n",
              "    <tr>\n",
              "      <th>18</th>\n",
              "      <td>14</td>\n",
              "    </tr>\n",
              "    <tr>\n",
              "      <th>19</th>\n",
              "      <td>12</td>\n",
              "    </tr>\n",
              "    <tr>\n",
              "      <th>20</th>\n",
              "      <td>108</td>\n",
              "    </tr>\n",
              "    <tr>\n",
              "      <th>21</th>\n",
              "      <td>12</td>\n",
              "    </tr>\n",
              "    <tr>\n",
              "      <th>22</th>\n",
              "      <td>11</td>\n",
              "    </tr>\n",
              "    <tr>\n",
              "      <th>23</th>\n",
              "      <td>14</td>\n",
              "    </tr>\n",
              "    <tr>\n",
              "      <th>24</th>\n",
              "      <td>13</td>\n",
              "    </tr>\n",
              "    <tr>\n",
              "      <th>25</th>\n",
              "      <td>15</td>\n",
              "    </tr>\n",
              "    <tr>\n",
              "      <th>26</th>\n",
              "      <td>10</td>\n",
              "    </tr>\n",
              "    <tr>\n",
              "      <th>27</th>\n",
              "      <td>15</td>\n",
              "    </tr>\n",
              "    <tr>\n",
              "      <th>28</th>\n",
              "      <td>12</td>\n",
              "    </tr>\n",
              "    <tr>\n",
              "      <th>29</th>\n",
              "      <td>10</td>\n",
              "    </tr>\n",
              "    <tr>\n",
              "      <th>30</th>\n",
              "      <td>14</td>\n",
              "    </tr>\n",
              "    <tr>\n",
              "      <th>31</th>\n",
              "      <td>13</td>\n",
              "    </tr>\n",
              "    <tr>\n",
              "      <th>32</th>\n",
              "      <td>15</td>\n",
              "    </tr>\n",
              "    <tr>\n",
              "      <th>33</th>\n",
              "      <td>10</td>\n",
              "    </tr>\n",
              "  </tbody>\n",
              "</table>\n",
              "</div>\n",
              "    <div class=\"colab-df-buttons\">\n",
              "\n",
              "  <div class=\"colab-df-container\">\n",
              "    <button class=\"colab-df-convert\" onclick=\"convertToInteractive('df-dad0c477-25e0-4b14-b556-2bc379223a54')\"\n",
              "            title=\"Convert this dataframe to an interactive table.\"\n",
              "            style=\"display:none;\">\n",
              "\n",
              "  <svg xmlns=\"http://www.w3.org/2000/svg\" height=\"24px\" viewBox=\"0 -960 960 960\">\n",
              "    <path d=\"M120-120v-720h720v720H120Zm60-500h600v-160H180v160Zm220 220h160v-160H400v160Zm0 220h160v-160H400v160ZM180-400h160v-160H180v160Zm440 0h160v-160H620v160ZM180-180h160v-160H180v160Zm440 0h160v-160H620v160Z\"/>\n",
              "  </svg>\n",
              "    </button>\n",
              "\n",
              "  <style>\n",
              "    .colab-df-container {\n",
              "      display:flex;\n",
              "      gap: 12px;\n",
              "    }\n",
              "\n",
              "    .colab-df-convert {\n",
              "      background-color: #E8F0FE;\n",
              "      border: none;\n",
              "      border-radius: 50%;\n",
              "      cursor: pointer;\n",
              "      display: none;\n",
              "      fill: #1967D2;\n",
              "      height: 32px;\n",
              "      padding: 0 0 0 0;\n",
              "      width: 32px;\n",
              "    }\n",
              "\n",
              "    .colab-df-convert:hover {\n",
              "      background-color: #E2EBFA;\n",
              "      box-shadow: 0px 1px 2px rgba(60, 64, 67, 0.3), 0px 1px 3px 1px rgba(60, 64, 67, 0.15);\n",
              "      fill: #174EA6;\n",
              "    }\n",
              "\n",
              "    .colab-df-buttons div {\n",
              "      margin-bottom: 4px;\n",
              "    }\n",
              "\n",
              "    [theme=dark] .colab-df-convert {\n",
              "      background-color: #3B4455;\n",
              "      fill: #D2E3FC;\n",
              "    }\n",
              "\n",
              "    [theme=dark] .colab-df-convert:hover {\n",
              "      background-color: #434B5C;\n",
              "      box-shadow: 0px 1px 3px 1px rgba(0, 0, 0, 0.15);\n",
              "      filter: drop-shadow(0px 1px 2px rgba(0, 0, 0, 0.3));\n",
              "      fill: #FFFFFF;\n",
              "    }\n",
              "  </style>\n",
              "\n",
              "    <script>\n",
              "      const buttonEl =\n",
              "        document.querySelector('#df-dad0c477-25e0-4b14-b556-2bc379223a54 button.colab-df-convert');\n",
              "      buttonEl.style.display =\n",
              "        google.colab.kernel.accessAllowed ? 'block' : 'none';\n",
              "\n",
              "      async function convertToInteractive(key) {\n",
              "        const element = document.querySelector('#df-dad0c477-25e0-4b14-b556-2bc379223a54');\n",
              "        const dataTable =\n",
              "          await google.colab.kernel.invokeFunction('convertToInteractive',\n",
              "                                                    [key], {});\n",
              "        if (!dataTable) return;\n",
              "\n",
              "        const docLinkHtml = 'Like what you see? Visit the ' +\n",
              "          '<a target=\"_blank\" href=https://colab.research.google.com/notebooks/data_table.ipynb>data table notebook</a>'\n",
              "          + ' to learn more about interactive tables.';\n",
              "        element.innerHTML = '';\n",
              "        dataTable['output_type'] = 'display_data';\n",
              "        await google.colab.output.renderOutput(dataTable, element);\n",
              "        const docLink = document.createElement('div');\n",
              "        docLink.innerHTML = docLinkHtml;\n",
              "        element.appendChild(docLink);\n",
              "      }\n",
              "    </script>\n",
              "  </div>\n",
              "\n",
              "\n",
              "<div id=\"df-604fcce8-212e-4c52-a583-67541e7665d0\">\n",
              "  <button class=\"colab-df-quickchart\" onclick=\"quickchart('df-604fcce8-212e-4c52-a583-67541e7665d0')\"\n",
              "            title=\"Suggest charts.\"\n",
              "            style=\"display:none;\">\n",
              "\n",
              "<svg xmlns=\"http://www.w3.org/2000/svg\" height=\"24px\"viewBox=\"0 0 24 24\"\n",
              "     width=\"24px\">\n",
              "    <g>\n",
              "        <path d=\"M19 3H5c-1.1 0-2 .9-2 2v14c0 1.1.9 2 2 2h14c1.1 0 2-.9 2-2V5c0-1.1-.9-2-2-2zM9 17H7v-7h2v7zm4 0h-2V7h2v10zm4 0h-2v-4h2v4z\"/>\n",
              "    </g>\n",
              "</svg>\n",
              "  </button>\n",
              "\n",
              "<style>\n",
              "  .colab-df-quickchart {\n",
              "      --bg-color: #E8F0FE;\n",
              "      --fill-color: #1967D2;\n",
              "      --hover-bg-color: #E2EBFA;\n",
              "      --hover-fill-color: #174EA6;\n",
              "      --disabled-fill-color: #AAA;\n",
              "      --disabled-bg-color: #DDD;\n",
              "  }\n",
              "\n",
              "  [theme=dark] .colab-df-quickchart {\n",
              "      --bg-color: #3B4455;\n",
              "      --fill-color: #D2E3FC;\n",
              "      --hover-bg-color: #434B5C;\n",
              "      --hover-fill-color: #FFFFFF;\n",
              "      --disabled-bg-color: #3B4455;\n",
              "      --disabled-fill-color: #666;\n",
              "  }\n",
              "\n",
              "  .colab-df-quickchart {\n",
              "    background-color: var(--bg-color);\n",
              "    border: none;\n",
              "    border-radius: 50%;\n",
              "    cursor: pointer;\n",
              "    display: none;\n",
              "    fill: var(--fill-color);\n",
              "    height: 32px;\n",
              "    padding: 0;\n",
              "    width: 32px;\n",
              "  }\n",
              "\n",
              "  .colab-df-quickchart:hover {\n",
              "    background-color: var(--hover-bg-color);\n",
              "    box-shadow: 0 1px 2px rgba(60, 64, 67, 0.3), 0 1px 3px 1px rgba(60, 64, 67, 0.15);\n",
              "    fill: var(--button-hover-fill-color);\n",
              "  }\n",
              "\n",
              "  .colab-df-quickchart-complete:disabled,\n",
              "  .colab-df-quickchart-complete:disabled:hover {\n",
              "    background-color: var(--disabled-bg-color);\n",
              "    fill: var(--disabled-fill-color);\n",
              "    box-shadow: none;\n",
              "  }\n",
              "\n",
              "  .colab-df-spinner {\n",
              "    border: 2px solid var(--fill-color);\n",
              "    border-color: transparent;\n",
              "    border-bottom-color: var(--fill-color);\n",
              "    animation:\n",
              "      spin 1s steps(1) infinite;\n",
              "  }\n",
              "\n",
              "  @keyframes spin {\n",
              "    0% {\n",
              "      border-color: transparent;\n",
              "      border-bottom-color: var(--fill-color);\n",
              "      border-left-color: var(--fill-color);\n",
              "    }\n",
              "    20% {\n",
              "      border-color: transparent;\n",
              "      border-left-color: var(--fill-color);\n",
              "      border-top-color: var(--fill-color);\n",
              "    }\n",
              "    30% {\n",
              "      border-color: transparent;\n",
              "      border-left-color: var(--fill-color);\n",
              "      border-top-color: var(--fill-color);\n",
              "      border-right-color: var(--fill-color);\n",
              "    }\n",
              "    40% {\n",
              "      border-color: transparent;\n",
              "      border-right-color: var(--fill-color);\n",
              "      border-top-color: var(--fill-color);\n",
              "    }\n",
              "    60% {\n",
              "      border-color: transparent;\n",
              "      border-right-color: var(--fill-color);\n",
              "    }\n",
              "    80% {\n",
              "      border-color: transparent;\n",
              "      border-right-color: var(--fill-color);\n",
              "      border-bottom-color: var(--fill-color);\n",
              "    }\n",
              "    90% {\n",
              "      border-color: transparent;\n",
              "      border-bottom-color: var(--fill-color);\n",
              "    }\n",
              "  }\n",
              "</style>\n",
              "\n",
              "  <script>\n",
              "    async function quickchart(key) {\n",
              "      const quickchartButtonEl =\n",
              "        document.querySelector('#' + key + ' button');\n",
              "      quickchartButtonEl.disabled = true;  // To prevent multiple clicks.\n",
              "      quickchartButtonEl.classList.add('colab-df-spinner');\n",
              "      try {\n",
              "        const charts = await google.colab.kernel.invokeFunction(\n",
              "            'suggestCharts', [key], {});\n",
              "      } catch (error) {\n",
              "        console.error('Error during call to suggestCharts:', error);\n",
              "      }\n",
              "      quickchartButtonEl.classList.remove('colab-df-spinner');\n",
              "      quickchartButtonEl.classList.add('colab-df-quickchart-complete');\n",
              "    }\n",
              "    (() => {\n",
              "      let quickchartButtonEl =\n",
              "        document.querySelector('#df-604fcce8-212e-4c52-a583-67541e7665d0 button');\n",
              "      quickchartButtonEl.style.display =\n",
              "        google.colab.kernel.accessAllowed ? 'block' : 'none';\n",
              "    })();\n",
              "  </script>\n",
              "</div>\n",
              "    </div>\n",
              "  </div>\n"
            ]
          },
          "metadata": {},
          "execution_count": 11
        }
      ]
    },
    {
      "cell_type": "markdown",
      "source": [
        "# Mean\n",
        " Mean refers to the average value of a set of numbers. It is calculated by summing all the numbers and then dividing by the total count of numbers. This gives you a measure of the central tendency of the data, representing its typical or average value."
      ],
      "metadata": {
        "id": "e9mzC0OgMLNS"
      }
    },
    {
      "cell_type": "code",
      "source": [
        "mean = np.mean(dataset)\n",
        "mean\n",
        "print(\"The mean of the given data is: \", mean)"
      ],
      "metadata": {
        "colab": {
          "base_uri": "https://localhost:8080/"
        },
        "id": "GIToGjWVUPfM",
        "outputId": "e14164f1-e405-4f2f-9db8-d43278fceafb"
      },
      "execution_count": 12,
      "outputs": [
        {
          "output_type": "stream",
          "name": "stdout",
          "text": [
            "The mean of the given data is:  21.176470588235293\n"
          ]
        }
      ]
    },
    {
      "cell_type": "markdown",
      "source": [
        "# Median\n",
        "Median refers to the middle value of a set of numbers when they are sorted in ascending order. If there's an even number of values, the median is the average of the two middle values. The median is a measure of central tendency that represents the middle value in a dataset, making it robust to outliers."
      ],
      "metadata": {
        "id": "sOuDiRD-MnZU"
      }
    },
    {
      "cell_type": "code",
      "source": [
        "median = np.median(dataset)\n",
        "median\n",
        "print(\"The median of the given data is: \", median)"
      ],
      "metadata": {
        "colab": {
          "base_uri": "https://localhost:8080/"
        },
        "id": "fNr71spnYWi7",
        "outputId": "929f8a1a-8373-4750-8300-e758b5bfe211"
      },
      "execution_count": 13,
      "outputs": [
        {
          "output_type": "stream",
          "name": "stdout",
          "text": [
            "The median of the given data is:  13.0\n"
          ]
        }
      ]
    },
    {
      "cell_type": "markdown",
      "source": [
        "# Mode\n",
        "Mode refers to the value that appears most frequently in a set of data. It's the value that occurs with the highest frequency and can help identify the most common element in a dataset."
      ],
      "metadata": {
        "id": "qnE336QjM25k"
      }
    },
    {
      "cell_type": "code",
      "source": [
        "mode = st.mode(dataset)\n",
        "mode\n",
        "print(\"The mode of the given data is: \", mode)"
      ],
      "metadata": {
        "colab": {
          "base_uri": "https://localhost:8080/"
        },
        "id": "RgbBRsmmYfuv",
        "outputId": "39d8c0d0-a32b-4a49-e45e-9ce41d02dac7"
      },
      "execution_count": 14,
      "outputs": [
        {
          "output_type": "stream",
          "name": "stdout",
          "text": [
            "The mode of the given data is:  12\n"
          ]
        }
      ]
    },
    {
      "cell_type": "markdown",
      "source": [
        "# Variance\n",
        "Variance is a measure of how much the values in a dataset differ from the mean. It quantifies the spread or dispersion of data points. A higher variance indicates greater variability among the values, while a lower variance suggests that the values are closer to the mean."
      ],
      "metadata": {
        "id": "ga4qsYsKNRKt"
      }
    },
    {
      "cell_type": "code",
      "source": [
        "var=st.variance(dataset)\n",
        "var\n",
        "print(\"The variance of the given data is: \", var)"
      ],
      "metadata": {
        "colab": {
          "base_uri": "https://localhost:8080/"
        },
        "id": "hiIo7MmrYxdg",
        "outputId": "d8d470be-39b5-4da0-95f5-a8972fd9e823"
      },
      "execution_count": 15,
      "outputs": [
        {
          "output_type": "stream",
          "name": "stdout",
          "text": [
            "The variance of the given data is:  716.5739750445633\n"
          ]
        }
      ]
    },
    {
      "cell_type": "markdown",
      "source": [
        "# Standard Deviation\n",
        "The standard deviation is the square root of the variance.\n",
        "Standard deviation is a measure of how much individual data points in a dataset typically deviate from the mean. It quantifies the spread or dispersion of data. A higher standard deviation indicates greater variability, while a lower standard deviation suggests that the data points are closer to the mean."
      ],
      "metadata": {
        "id": "uVxy_2gDNb4o"
      }
    },
    {
      "cell_type": "code",
      "source": [
        "std = np.std(dataset)\n",
        "std\n",
        "print(\"The standard deviation of the given data is: \", std)"
      ],
      "metadata": {
        "colab": {
          "base_uri": "https://localhost:8080/"
        },
        "id": "8Bwd8vMVW0aL",
        "outputId": "f1006714-6a76-405f-e37d-22f990d4c167"
      },
      "execution_count": 16,
      "outputs": [
        {
          "output_type": "stream",
          "name": "stdout",
          "text": [
            "The standard deviation of the given data is:  26.37230118696876\n"
          ]
        }
      ]
    },
    {
      "cell_type": "markdown",
      "source": [
        "# Range\n",
        "The range refers to the difference between the maximum and minimum values in a dataset. It provides a simple measure of the spread or variability of the data. To calculate the range, you subtract the minimum value from the maximum value:"
      ],
      "metadata": {
        "id": "19BVqMMbOD20"
      }
    },
    {
      "cell_type": "code",
      "source": [
        "range= max(dataset)-min(dataset)\n",
        "print (\"The range of the given data is: \",range)"
      ],
      "metadata": {
        "colab": {
          "base_uri": "https://localhost:8080/"
        },
        "id": "jq4YVT9pZVTL",
        "outputId": "734a92ce-9cf4-49fd-bf14-c3436aa687cb"
      },
      "execution_count": 17,
      "outputs": [
        {
          "output_type": "stream",
          "name": "stdout",
          "text": [
            "The range of the given data is:  98\n"
          ]
        }
      ]
    },
    {
      "cell_type": "markdown",
      "source": [
        "# Calculating IQR [Inter Quartile Range]"
      ],
      "metadata": {
        "id": "l50e3qWkOrz3"
      }
    },
    {
      "cell_type": "code",
      "source": [
        "  Q1 = np.percentile(dataset,25)\n",
        "  Q3 = np.percentile(dataset,75)\n",
        "  IQR = Q3 - Q1\n",
        "  IQR\n",
        "  print(\"The inter quartile range for the given data is: \", IQR)"
      ],
      "metadata": {
        "colab": {
          "base_uri": "https://localhost:8080/"
        },
        "id": "36BvaAvpXD5Y",
        "outputId": "8a726b58-4c2a-4226-a436-15b06ce85694"
      },
      "execution_count": 18,
      "outputs": [
        {
          "output_type": "stream",
          "name": "stdout",
          "text": [
            "The inter quartile range for the given data is:  3.0\n"
          ]
        }
      ]
    },
    {
      "cell_type": "markdown",
      "source": [
        "# Calculating the Lower Bound & the Upper Bound"
      ],
      "metadata": {
        "id": "JzC-WhVmOtW2"
      }
    },
    {
      "cell_type": "code",
      "source": [
        "lower_bound = Q1 - IQR*1.5\n",
        "upper_bound = Q3 + IQR*1.5\n",
        "lower_bound,upper_bound\n",
        "print(\"The lower bound for the given data is: \", lower_bound)\n",
        "print(\"The upper bound for the given data is: \", upper_bound)"
      ],
      "metadata": {
        "colab": {
          "base_uri": "https://localhost:8080/"
        },
        "id": "bqvmmO1eXE03",
        "outputId": "968e81ab-1e8e-423c-f849-c297db57cf05"
      },
      "execution_count": 19,
      "outputs": [
        {
          "output_type": "stream",
          "name": "stdout",
          "text": [
            "The lower bound for the given data is:  7.5\n",
            "The upper bound for the given data is:  19.5\n"
          ]
        }
      ]
    },
    {
      "cell_type": "markdown",
      "source": [
        "# import scipy.stats as stats:\n",
        "It is used to import the statistical functions and distributions from the SciPy library, giving them the alias \"stats\" for convenience. This allows you to access and use a wide range of statistical tools and calculations in your Python code by prefixing them with stats. to perform tasks such as hypothesis testing, probability density estimation, and various statistical analyses."
      ],
      "metadata": {
        "id": "gkQwflEbPBhP"
      }
    },
    {
      "cell_type": "code",
      "source": [
        "import scipy.stats as stats"
      ],
      "metadata": {
        "id": "4jwieauHXgZu"
      },
      "execution_count": 20,
      "outputs": []
    },
    {
      "cell_type": "markdown",
      "source": [
        "# Z_Score Calculation"
      ],
      "metadata": {
        "id": "mCM-FVYKPN0J"
      }
    },
    {
      "cell_type": "code",
      "source": [
        "zscore = stats.zscore(dataset)\n",
        "zscore\n",
        "print(\"The zscore for the given data is:\\n \", zscore)"
      ],
      "metadata": {
        "colab": {
          "base_uri": "https://localhost:8080/"
        },
        "id": "aPAOtNAlXc5j",
        "outputId": "ccfc6fab-d7fc-4476-c121-0b5951ae567a"
      },
      "execution_count": 21,
      "outputs": [
        {
          "output_type": "stream",
          "name": "stdout",
          "text": [
            "The zscore for the given data is:\n",
            "  [-0.38587723 -0.4237958  -0.34795866 -0.27212152 -0.34795866 -0.23420294\n",
            " -0.27212152 -0.31004009 -0.23420294  3.06471282 -0.34795866 -0.27212152\n",
            " -0.1583658  -0.08252866  3.25430567 -0.4237958  -0.31004009 -0.34795866\n",
            " -0.27212152 -0.34795866  3.29222425 -0.34795866 -0.38587723 -0.27212152\n",
            " -0.31004009 -0.23420294 -0.4237958  -0.23420294 -0.34795866 -0.4237958\n",
            " -0.27212152 -0.31004009 -0.23420294 -0.4237958 ]\n"
          ]
        }
      ]
    }
  ]
}