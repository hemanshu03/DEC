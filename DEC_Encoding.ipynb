{
  "nbformat": 4,
  "nbformat_minor": 0,
  "metadata": {
    "colab": {
      "provenance": []
    },
    "kernelspec": {
      "name": "python3",
      "display_name": "Python 3"
    },
    "language_info": {
      "name": "python"
    }
  },
  "cells": [
    {
      "cell_type": "markdown",
      "source": [
        "#  Name -> Deven Chhajed\n",
        "# Roll No-> 32\n",
        "# Batch -> B1 (CSE)\n",
        "# Prn -> 1032210789\n",
        "# Data Encoding"
      ],
      "metadata": {
        "id": "hr7v-yPK4mMQ"
      }
    },
    {
      "cell_type": "code",
      "execution_count": 1,
      "metadata": {
        "id": "Dbp-HjPUN03S"
      },
      "outputs": [],
      "source": [
        "import pandas as pd\n",
        "from sklearn import preprocessing"
      ]
    },
    {
      "cell_type": "markdown",
      "source": [
        "**import pandas as pd**: Pandas, a Python library for data manipulation and analysis, offers essential data structures such as DataFrames and Series to facilitate efficient data handling and analysis.\n",
        "\n",
        "**from sklearn import preprocessing**: The preprocessing module in sklearn is used for transforming raw data into a format better suited for machine learning algorithms. It includes functions for scaling, normalization, and more. After importing it, you can use its functions to preprocess your data.\n",
        "\n"
      ],
      "metadata": {
        "id": "8QiLZ4Hs60hq"
      }
    },
    {
      "cell_type": "markdown",
      "source": [
        "# Label Encoding\n",
        "\n",
        "**Label Encoding** is a pivotal technique in machine learning that transforms categorical data into a numerical format, enabling their use in machine learning models which typically necessitate numerical input. Here’s a breakdown of the process:\n",
        "\n",
        "**Unique Category Assignment:** Each unique category value is assigned a distinct integer, known as a label.\n",
        "\n",
        "**Integer Assignment:** These labels are allocated arbitrarily. For instance, if you have a ‘Color’ feature with values ‘Red’, ‘Blue’, and ‘Green’, they could be encoded as 0, 1, and 2 respectively.\n",
        "\n",
        "**Value Replacement:** The categorical values in the dataset are then substituted with their corresponding integers.\n",
        "\n",
        "Consider a dataset with a ‘Height’ feature having values ‘Tall’, ‘Medium’, and ‘Short’. Post label encoding, these could be represented as 0, 1, and 2 respectively.\n",
        "\n",
        "However, Label Encoding does have a **limitation.** It can sometimes imply an ordered relationship between the categories incorrectly. For example, in our ‘Height’ scenario, the model might mistakenly infer that ‘Short’ (2) is “greater than” ‘Tall’ (0), which is logically incorrect."
      ],
      "metadata": {
        "id": "aRZlL4eX7Tku"
      }
    },
    {
      "cell_type": "code",
      "source": [
        "data = {\n",
        "    \"Departments\": ['Production', 'Finance', 'IT', 'Marketing', 'Finance', 'IT', 'IT', 'Human Resource', 'Finance']\n",
        "}\n",
        "\n",
        "# Create a DataFrame from my_data\n",
        "df = pd.DataFrame(data)\n",
        "\n",
        "# Now, you can add an index to the DataFrame\n",
        "df.index = df.index + 1\n",
        "\n",
        "print(df)\n",
        "\n",
        "le = preprocessing.LabelEncoder()\n",
        "\n",
        "df['Departments'] = le.fit_transform(df['Departments'])\n",
        "\n",
        "print(\"\\nData Frame after Label Encoding:\\n\")\n",
        "print(df)\n"
      ],
      "metadata": {
        "colab": {
          "base_uri": "https://localhost:8080/"
        },
        "id": "WS_r-vq_PHjN",
        "outputId": "1428605b-aa9d-449d-e052-129f31cbe4b6"
      },
      "execution_count": 2,
      "outputs": [
        {
          "output_type": "stream",
          "name": "stdout",
          "text": [
            "      Departments\n",
            "1      Production\n",
            "2         Finance\n",
            "3              IT\n",
            "4       Marketing\n",
            "5         Finance\n",
            "6              IT\n",
            "7              IT\n",
            "8  Human Resource\n",
            "9         Finance\n",
            "\n",
            "Data Frame after Label Encoding:\n",
            "\n",
            "   Departments\n",
            "1            4\n",
            "2            0\n",
            "3            2\n",
            "4            3\n",
            "5            0\n",
            "6            2\n",
            "7            2\n",
            "8            1\n",
            "9            0\n"
          ]
        }
      ]
    },
    {
      "cell_type": "markdown",
      "source": [
        "# \"category_encoders\" is used for encoding categorical data in Python, which is important for machine learning and data analysis."
      ],
      "metadata": {
        "id": "uO4E2q6R-7Qj"
      }
    },
    {
      "cell_type": "code",
      "source": [
        "pip install category_encoders"
      ],
      "metadata": {
        "colab": {
          "base_uri": "https://localhost:8080/"
        },
        "id": "gpFrUUDBQPZo",
        "outputId": "08da3303-f300-4949-ec9b-6f4a82e74da2"
      },
      "execution_count": 3,
      "outputs": [
        {
          "output_type": "stream",
          "name": "stdout",
          "text": [
            "Collecting category_encoders\n",
            "  Downloading category_encoders-2.6.2-py2.py3-none-any.whl (81 kB)\n",
            "\u001b[?25l     \u001b[90m━━━━━━━━━━━━━━━━━━━━━━━━━━━━━━━━━━━━━━━━\u001b[0m \u001b[32m0.0/81.8 kB\u001b[0m \u001b[31m?\u001b[0m eta \u001b[36m-:--:--\u001b[0m\r\u001b[2K     \u001b[90m━━━━━━━━━━━━━━━━━━━━━━━━━━━━━━━━━━━━━━━━\u001b[0m \u001b[32m81.8/81.8 kB\u001b[0m \u001b[31m4.6 MB/s\u001b[0m eta \u001b[36m0:00:00\u001b[0m\n",
            "\u001b[?25hRequirement already satisfied: numpy>=1.14.0 in /usr/local/lib/python3.10/dist-packages (from category_encoders) (1.23.5)\n",
            "Requirement already satisfied: scikit-learn>=0.20.0 in /usr/local/lib/python3.10/dist-packages (from category_encoders) (1.2.2)\n",
            "Requirement already satisfied: scipy>=1.0.0 in /usr/local/lib/python3.10/dist-packages (from category_encoders) (1.11.3)\n",
            "Requirement already satisfied: statsmodels>=0.9.0 in /usr/local/lib/python3.10/dist-packages (from category_encoders) (0.14.0)\n",
            "Requirement already satisfied: pandas>=1.0.5 in /usr/local/lib/python3.10/dist-packages (from category_encoders) (1.5.3)\n",
            "Requirement already satisfied: patsy>=0.5.1 in /usr/local/lib/python3.10/dist-packages (from category_encoders) (0.5.3)\n",
            "Requirement already satisfied: python-dateutil>=2.8.1 in /usr/local/lib/python3.10/dist-packages (from pandas>=1.0.5->category_encoders) (2.8.2)\n",
            "Requirement already satisfied: pytz>=2020.1 in /usr/local/lib/python3.10/dist-packages (from pandas>=1.0.5->category_encoders) (2023.3.post1)\n",
            "Requirement already satisfied: six in /usr/local/lib/python3.10/dist-packages (from patsy>=0.5.1->category_encoders) (1.16.0)\n",
            "Requirement already satisfied: joblib>=1.1.1 in /usr/local/lib/python3.10/dist-packages (from scikit-learn>=0.20.0->category_encoders) (1.3.2)\n",
            "Requirement already satisfied: threadpoolctl>=2.0.0 in /usr/local/lib/python3.10/dist-packages (from scikit-learn>=0.20.0->category_encoders) (3.2.0)\n",
            "Requirement already satisfied: packaging>=21.3 in /usr/local/lib/python3.10/dist-packages (from statsmodels>=0.9.0->category_encoders) (23.2)\n",
            "Installing collected packages: category_encoders\n",
            "Successfully installed category_encoders-2.6.2\n"
          ]
        }
      ]
    },
    {
      "cell_type": "markdown",
      "source": [
        "# **import category_encoders as ce** allows you to use the category_encoders package in your Python code with the alias ce. This package provides tools for encoding categorical data, making it suitable for use in machine learning and data analysis tasks."
      ],
      "metadata": {
        "id": "n8eM2LQt_DSa"
      }
    },
    {
      "cell_type": "code",
      "source": [
        "import category_encoders as ce"
      ],
      "metadata": {
        "id": "Jwb_IPZzQUwd"
      },
      "execution_count": 4,
      "outputs": []
    },
    {
      "cell_type": "markdown",
      "source": [
        "# Target Encoding\n",
        "Target encoding, also known as mean encoding, is a method for encoding categorical variables in machine learning. Here's a brief explanation:\n",
        "\n",
        "1. **Transformation:** Target encoding replaces each category in a categorical variable with a numerical value. This value is computed based on the statistical properties of the target variable for each category.\n",
        "\n",
        "2. **Supervised Learning:** It is primarily used in supervised learning tasks, where you have a target variable to predict, and you want to encode the categorical features to use them in machine learning models.\n",
        "\n",
        "3. **Relationship Capture:** Target encoding captures the relationship between the categorical variable and the target variable by aggregating information from the target variable (e.g., mean, median, or other statistics) for each category.\n",
        "\n",
        "4. **Common Usage:** It is often used with decision trees, random forests, and gradient boosting algorithms, as it can enhance the performance of these models when dealing with categorical features.\n",
        "\n",
        "5. **Overfitting Concerns:** Care should be taken to prevent overfitting. Techniques like smoothing or regularization can be applied to mitigate the risk of overfitting when using target encoding.\n",
        "\n",
        "In essence, target encoding helps convert categorical data into a numerical format, which is more suitable for machine learning algorithms, by summarizing the relationship between the categories and the target variable."
      ],
      "metadata": {
        "id": "Fugh_X6o9Hvt"
      }
    },
    {
      "cell_type": "code",
      "source": [
        "# Define the data in a dictionary\n",
        "data1 = {\n",
        "    \"Subjects\": ['Accounts', 'Business', 'Economics', 'Business', 'Economics', 'Accounts', 'Accounts', 'Accounts'],\n",
        "    \"Marks\": [50, 30, 70, 80, 45, 97, 80, 68],\n",
        "}\n",
        "\n",
        "# Create a DataFrame from the data\n",
        "df1 = pd.DataFrame(data1)\n",
        "\n",
        "# Print the original DataFrame\n",
        "print(\"Original DataFrame:\\n\")\n",
        "print(df1)\n",
        "\n",
        "# Create a TargetEncoder object for the \"Subjects\" column\n",
        "encoder = ce.TargetEncoder(cols=[\"Subjects\"])\n",
        "\n",
        "# Apply target encoding to the DataFrame based on the \"Marks\" column\n",
        "df1 = encoder.fit_transform(df1, df1[\"Marks\"])\n",
        "\n",
        "# Print the DataFrame after target encoding\n",
        "print(\"\\nData Frame after Target Encoding:\\n\")\n",
        "print(df1)"
      ],
      "metadata": {
        "colab": {
          "base_uri": "https://localhost:8080/"
        },
        "id": "UIx14WkQQXcT",
        "outputId": "e584c71d-95aa-4107-ef22-2248d16e7ca0"
      },
      "execution_count": 5,
      "outputs": [
        {
          "output_type": "stream",
          "name": "stdout",
          "text": [
            "Original DataFrame:\n",
            "\n",
            "    Subjects  Marks\n",
            "0   Accounts     50\n",
            "1   Business     30\n",
            "2  Economics     70\n",
            "3   Business     80\n",
            "4  Economics     45\n",
            "5   Accounts     97\n",
            "6   Accounts     80\n",
            "7   Accounts     68\n",
            "\n",
            "Data Frame after Target Encoding:\n",
            "\n",
            "    Subjects  Marks\n",
            "0  66.469839     50\n",
            "1  63.581489     30\n",
            "2  63.936117     70\n",
            "3  63.581489     80\n",
            "4  63.936117     45\n",
            "5  66.469839     97\n",
            "6  66.469839     80\n",
            "7  66.469839     68\n"
          ]
        }
      ]
    },
    {
      "cell_type": "markdown",
      "source": [
        "# One Hot Encoding\n",
        "One-hot encoding is a technique for converting categorical variables into a binary matrix (0s and 1s). Here's a concise explanation:\n",
        "\n",
        "- **Binary Transformation:** Each category in a categorical variable is transformed into a binary column where only one column is \"1\" (hot) and the rest are \"0\" (not hot).\n",
        "\n",
        "- **Suitability:** One-hot encoding is typically used for categorical variables where there is no intrinsic order or ranking among the categories. It's ideal for scenarios where categories are exclusive and don't have a natural numeric relationship.\n",
        "\n",
        "- **Avoiding Order Bias:** Unlike label encoding, which assigns arbitrary numbers to categories, one-hot encoding ensures that the machine learning model doesn't interpret the categories as having a meaningful order.\n",
        "\n",
        "- **Dimensionality Increase:** One-hot encoding can significantly increase the dimensionality of your dataset, which may not be suitable for high-cardinality categorical variables.\n",
        "\n",
        "- **Independence:** Each one-hot encoded column is independent of the others, which can be beneficial for some machine learning algorithms.\n",
        "\n",
        "In summary, one-hot encoding is a method for converting categorical data into a format that is suitable for machine learning models, especially when categories don't have inherent order or ranking. It helps prevent the model from misinterpreting the data due to arbitrary numerical values."
      ],
      "metadata": {
        "id": "hwbKOD_M7lym"
      }
    },
    {
      "cell_type": "code",
      "source": [
        "# Define the data in a dictionary\n",
        "data2 = {\n",
        "    \"Color\": ['Red', 'Blue', 'Yellow', 'Green', 'Black'],\n",
        "}\n",
        "\n",
        "# Create a DataFrame from the data\n",
        "df2 = pd.DataFrame(data2)\n",
        "\n",
        "# Print the original DataFrame\n",
        "print(\"Original DataFrame:\\n\")\n",
        "print(df2)\n",
        "\n",
        "# Perform one-hot encoding on the \"Color\" column\n",
        "one_hot_encoded_data = pd.get_dummies(df2, columns=['Color'])\n",
        "\n",
        "# Print the DataFrame after one-hot encoding\n",
        "print(\"\\nData Frame after One-Hot Encoding:\\n\")\n",
        "print(one_hot_encoded_data)"
      ],
      "metadata": {
        "colab": {
          "base_uri": "https://localhost:8080/"
        },
        "id": "SgbVcK8BQ5zi",
        "outputId": "b7465a3c-2a98-4ca3-d11e-2f547a09d843"
      },
      "execution_count": 6,
      "outputs": [
        {
          "output_type": "stream",
          "name": "stdout",
          "text": [
            "Original DataFrame:\n",
            "\n",
            "    Color\n",
            "0     Red\n",
            "1    Blue\n",
            "2  Yellow\n",
            "3   Green\n",
            "4   Black\n",
            "\n",
            "Data Frame after One-Hot Encoding:\n",
            "\n",
            "   Color_Black  Color_Blue  Color_Green  Color_Red  Color_Yellow\n",
            "0            0           0            0          1             0\n",
            "1            0           1            0          0             0\n",
            "2            0           0            0          0             1\n",
            "3            0           0            1          0             0\n",
            "4            1           0            0          0             0\n"
          ]
        }
      ]
    },
    {
      "cell_type": "markdown",
      "source": [
        "# Dummy Encoding\n",
        "Dummy encoding is a technique used to convert categorical variables into a numerical format for machine learning and data analysis. In this method, each category is represented by a set of binary columns. Each unique category corresponds to its own set of binary columns, and for each data point, only one of these columns has a \"1\" while the others are \"0.\" This approach is akin to one-hot encoding but allows for multiple \"hot\" columns within a single observation, and it retains the independence of each encoded column. However, it can increase the dataset's dimensionality, which should be considered when applying it to your data.\n",
        "\n",
        "- **Binary Conversion:** Dummy encoding transforms categorical variables into binary columns.\n",
        "- **Number of Columns:** Each unique category corresponds to a set of binary columns, with only one \"hot\" (1) column per category per data point.\n",
        "- **Difference from One-Hot Encoding:** While similar to one-hot encoding, dummy encoding allows multiple \"hot\" columns within a single observation.\n",
        "- **Independence:** Like one-hot encoding, each dummy-encoded column is independent, which can be advantageous for certain machine learning algorithms.\n",
        "- **Potential Dimensionality Increase:** Dummy encoding can increase the dimensionality of the dataset."
      ],
      "metadata": {
        "id": "rt3-jk9c4kUE"
      }
    },
    {
      "cell_type": "code",
      "source": [
        "# Define the data in a dictionary\n",
        "data3 = {\n",
        "    \"Temperature\": ['Hot', 'Cold', 'Warm', 'Very Hot', 'Hot', 'Warm', 'Cold'],\n",
        "}\n",
        "\n",
        "# Create a DataFrame from the data\n",
        "df3 = pd.DataFrame(data3)\n",
        "\n",
        "# Print the original DataFrame\n",
        "print(\"Original DataFrame:\\n\")\n",
        "print(df3)\n",
        "\n",
        "# Perform dummy encoding on the \"Temperature\" column\n",
        "df_encoded = pd.get_dummies(df3, columns=[\"Temperature\"])\n",
        "\n",
        "# Print the DataFrame after dummy encoding\n",
        "print(\"\\nData Frame after Dummy Encoding:\\n\")\n",
        "print(df_encoded)"
      ],
      "metadata": {
        "colab": {
          "base_uri": "https://localhost:8080/"
        },
        "id": "ShankbRZRC82",
        "outputId": "bc5af754-5825-4e2a-92c6-bdb06245f660"
      },
      "execution_count": 7,
      "outputs": [
        {
          "output_type": "stream",
          "name": "stdout",
          "text": [
            "Original DataFrame:\n",
            "\n",
            "  Temperature\n",
            "0         Hot\n",
            "1        Cold\n",
            "2        Warm\n",
            "3    Very Hot\n",
            "4         Hot\n",
            "5        Warm\n",
            "6        Cold\n",
            "\n",
            "Data Frame after Dummy Encoding:\n",
            "\n",
            "   Temperature_Cold  Temperature_Hot  Temperature_Very Hot  Temperature_Warm\n",
            "0                 0                1                     0                 0\n",
            "1                 1                0                     0                 0\n",
            "2                 0                0                     0                 1\n",
            "3                 0                0                     1                 0\n",
            "4                 0                1                     0                 0\n",
            "5                 0                0                     0                 1\n",
            "6                 1                0                     0                 0\n"
          ]
        }
      ]
    },
    {
      "cell_type": "markdown",
      "source": [
        "# Binary Encoding\n",
        "Binary encoding is a method to represent categorical variables as binary code, using a fixed number of binary columns. It's efficient for high-cardinality variables and assumes a natural order among categories, making it suitable for ordinal variables.\n",
        "\n",
        "- **Binary Representation:** Binary encoding transforms each category in a categorical variable into binary code.\n",
        "- **Number of Columns:** It creates a fixed number of binary columns (log2(N), where N is the number of unique categories) to represent the categories.\n",
        "- **Efficiency:** It is more efficient than one-hot encoding and dummy encoding when dealing with high-cardinality categorical variables, as it reduces dimensionality.\n",
        "- **Relation to Order:** Binary encoding assumes a natural order among categories, so it's more suitable for ordinal categorical variables.\n",
        "- **Combination of Binary Values:** Each category corresponds to a unique combination of 0s and 1s in the binary columns.\n",
        "\n",
        "In summary, binary encoding is a technique for converting categorical data into a binary format based on a natural order among the categories, which can be more efficient and space-saving for certain applications."
      ],
      "metadata": {
        "id": "3makl2dV7_it"
      }
    },
    {
      "cell_type": "code",
      "source": [
        "# Define the data in a dictionary\n",
        "data4 = {\n",
        "    \"Country\": ['Dubai', 'Malaysia', 'Hungary', 'China', 'Bhutan', 'Dubai', 'Hungary', 'Malaysia', 'Australia'],\n",
        "}\n",
        "\n",
        "# Create a DataFrame from the data\n",
        "df4 = pd.DataFrame(data4)\n",
        "\n",
        "# Print the original DataFrame\n",
        "print(\"Original DataFrame:\\n\")\n",
        "print(df4)\n",
        "\n",
        "# Create a BinaryEncoder object for the \"Country\" column\n",
        "encoder = ce.BinaryEncoder(cols=['Country'])\n",
        "\n",
        "# Perform binary encoding on the \"Country\" column\n",
        "df_encoded = encoder.fit_transform(df4)\n",
        "\n",
        "# Print the DataFrame after binary encoding\n",
        "print(\"\\nData Frame after Binary Encoding:\\n\")\n",
        "print(df_encoded)"
      ],
      "metadata": {
        "colab": {
          "base_uri": "https://localhost:8080/"
        },
        "id": "Mk_KkOvnRR6r",
        "outputId": "6d1935ff-38cc-44ab-f0d8-b25f02a6d3b6"
      },
      "execution_count": 8,
      "outputs": [
        {
          "output_type": "stream",
          "name": "stdout",
          "text": [
            "Original DataFrame:\n",
            "\n",
            "     Country\n",
            "0      Dubai\n",
            "1   Malaysia\n",
            "2    Hungary\n",
            "3      China\n",
            "4     Bhutan\n",
            "5      Dubai\n",
            "6    Hungary\n",
            "7   Malaysia\n",
            "8  Australia\n",
            "\n",
            "Data Frame after Binary Encoding:\n",
            "\n",
            "   Country_0  Country_1  Country_2\n",
            "0          0          0          1\n",
            "1          0          1          0\n",
            "2          0          1          1\n",
            "3          1          0          0\n",
            "4          1          0          1\n",
            "5          0          0          1\n",
            "6          0          1          1\n",
            "7          0          1          0\n",
            "8          1          1          0\n"
          ]
        }
      ]
    },
    {
      "cell_type": "markdown",
      "source": [
        "# Hash Encoding\n",
        "Hash encoding is a technique used to convert categorical variables into numerical values by applying a hash function to the categories. Here's a concise explanation of hash encoding:\n",
        "\n",
        "1. **Hashing Categories:** Each category is hashed into a numerical value using a hash function. This produces a unique numeric representation for each category.\n",
        "\n",
        "2. **Fixed Dimensionality:** Hash encoding typically reduces the dimensionality compared to one-hot encoding or dummy encoding because the output is fixed in size.\n",
        "\n",
        "3. **Randomness:** Hash encoding can introduce randomness, as different categories may be mapped to the same value if they collide in the hash function.\n",
        "\n",
        "4. **Memory-Efficient:** It can be memory-efficient when dealing with high-cardinality categorical variables because it doesn't create many new columns.\n",
        "\n",
        "5. **Non-Interpretable:** The numerical values produced by the hash function are typically not interpretable as they lack any ordinal or semantic meaning.\n",
        "\n",
        "In summary, hash encoding is a method to convert categorical data into a numerical format, but it can introduce randomness and doesn't provide ordinal information about the categories. It's often used for dimensionality reduction in scenarios with high-cardinality categorical variables."
      ],
      "metadata": {
        "id": "xOyqQh9tEBq0"
      }
    },
    {
      "cell_type": "code",
      "source": [
        "pip install category_encoders"
      ],
      "metadata": {
        "colab": {
          "base_uri": "https://localhost:8080/"
        },
        "id": "so-hKp2hDSWU",
        "outputId": "e449e4ca-df62-4672-e10a-0cd55761d052"
      },
      "execution_count": 9,
      "outputs": [
        {
          "output_type": "stream",
          "name": "stdout",
          "text": [
            "Requirement already satisfied: category_encoders in /usr/local/lib/python3.10/dist-packages (2.6.2)\n",
            "Requirement already satisfied: numpy>=1.14.0 in /usr/local/lib/python3.10/dist-packages (from category_encoders) (1.23.5)\n",
            "Requirement already satisfied: scikit-learn>=0.20.0 in /usr/local/lib/python3.10/dist-packages (from category_encoders) (1.2.2)\n",
            "Requirement already satisfied: scipy>=1.0.0 in /usr/local/lib/python3.10/dist-packages (from category_encoders) (1.11.3)\n",
            "Requirement already satisfied: statsmodels>=0.9.0 in /usr/local/lib/python3.10/dist-packages (from category_encoders) (0.14.0)\n",
            "Requirement already satisfied: pandas>=1.0.5 in /usr/local/lib/python3.10/dist-packages (from category_encoders) (1.5.3)\n",
            "Requirement already satisfied: patsy>=0.5.1 in /usr/local/lib/python3.10/dist-packages (from category_encoders) (0.5.3)\n",
            "Requirement already satisfied: python-dateutil>=2.8.1 in /usr/local/lib/python3.10/dist-packages (from pandas>=1.0.5->category_encoders) (2.8.2)\n",
            "Requirement already satisfied: pytz>=2020.1 in /usr/local/lib/python3.10/dist-packages (from pandas>=1.0.5->category_encoders) (2023.3.post1)\n",
            "Requirement already satisfied: six in /usr/local/lib/python3.10/dist-packages (from patsy>=0.5.1->category_encoders) (1.16.0)\n",
            "Requirement already satisfied: joblib>=1.1.1 in /usr/local/lib/python3.10/dist-packages (from scikit-learn>=0.20.0->category_encoders) (1.3.2)\n",
            "Requirement already satisfied: threadpoolctl>=2.0.0 in /usr/local/lib/python3.10/dist-packages (from scikit-learn>=0.20.0->category_encoders) (3.2.0)\n",
            "Requirement already satisfied: packaging>=21.3 in /usr/local/lib/python3.10/dist-packages (from statsmodels>=0.9.0->category_encoders) (23.2)\n"
          ]
        }
      ]
    },
    {
      "cell_type": "markdown",
      "source": [
        "# This package helps prepare categorical data for use in machine learning models by converting them into a suitable format for analysis and prediction."
      ],
      "metadata": {
        "id": "Fvhm8e3CDwlj"
      }
    },
    {
      "cell_type": "code",
      "source": [
        "import category_encoders as ce\n",
        "import pandas as pd\n",
        "\n",
        "#Create the dataframe\n",
        "data4=pd.DataFrame({'Month':['January','April','March','April','Februay','July','April','July','September']})\n",
        "\n",
        "#Create object for hash encoder\n",
        "encoder=ce.HashingEncoder(cols='Month',n_components=6)"
      ],
      "metadata": {
        "id": "Qq83vdMnC0bM"
      },
      "execution_count": 10,
      "outputs": []
    },
    {
      "cell_type": "code",
      "source": [
        "encoder.fit_transform(data4)"
      ],
      "metadata": {
        "colab": {
          "base_uri": "https://localhost:8080/",
          "height": 332
        },
        "id": "u1_Bp9CMC079",
        "outputId": "c2df0437-d133-4204-bd68-53220a5d4168"
      },
      "execution_count": 11,
      "outputs": [
        {
          "output_type": "execute_result",
          "data": {
            "text/plain": [
              "   col_0  col_1  col_2  col_3  col_4  col_5\n",
              "0      0      0      0      0      1      0\n",
              "1      0      0      0      1      0      0\n",
              "2      0      0      0      0      1      0\n",
              "3      0      0      0      1      0      0\n",
              "4      0      0      0      1      0      0\n",
              "5      1      0      0      0      0      0\n",
              "6      0      0      0      1      0      0\n",
              "7      1      0      0      0      0      0\n",
              "8      0      0      0      0      1      0"
            ],
            "text/html": [
              "\n",
              "  <div id=\"df-6235da58-47b3-42c9-99bb-41f3910b8d32\" class=\"colab-df-container\">\n",
              "    <div>\n",
              "<style scoped>\n",
              "    .dataframe tbody tr th:only-of-type {\n",
              "        vertical-align: middle;\n",
              "    }\n",
              "\n",
              "    .dataframe tbody tr th {\n",
              "        vertical-align: top;\n",
              "    }\n",
              "\n",
              "    .dataframe thead th {\n",
              "        text-align: right;\n",
              "    }\n",
              "</style>\n",
              "<table border=\"1\" class=\"dataframe\">\n",
              "  <thead>\n",
              "    <tr style=\"text-align: right;\">\n",
              "      <th></th>\n",
              "      <th>col_0</th>\n",
              "      <th>col_1</th>\n",
              "      <th>col_2</th>\n",
              "      <th>col_3</th>\n",
              "      <th>col_4</th>\n",
              "      <th>col_5</th>\n",
              "    </tr>\n",
              "  </thead>\n",
              "  <tbody>\n",
              "    <tr>\n",
              "      <th>0</th>\n",
              "      <td>0</td>\n",
              "      <td>0</td>\n",
              "      <td>0</td>\n",
              "      <td>0</td>\n",
              "      <td>1</td>\n",
              "      <td>0</td>\n",
              "    </tr>\n",
              "    <tr>\n",
              "      <th>1</th>\n",
              "      <td>0</td>\n",
              "      <td>0</td>\n",
              "      <td>0</td>\n",
              "      <td>1</td>\n",
              "      <td>0</td>\n",
              "      <td>0</td>\n",
              "    </tr>\n",
              "    <tr>\n",
              "      <th>2</th>\n",
              "      <td>0</td>\n",
              "      <td>0</td>\n",
              "      <td>0</td>\n",
              "      <td>0</td>\n",
              "      <td>1</td>\n",
              "      <td>0</td>\n",
              "    </tr>\n",
              "    <tr>\n",
              "      <th>3</th>\n",
              "      <td>0</td>\n",
              "      <td>0</td>\n",
              "      <td>0</td>\n",
              "      <td>1</td>\n",
              "      <td>0</td>\n",
              "      <td>0</td>\n",
              "    </tr>\n",
              "    <tr>\n",
              "      <th>4</th>\n",
              "      <td>0</td>\n",
              "      <td>0</td>\n",
              "      <td>0</td>\n",
              "      <td>1</td>\n",
              "      <td>0</td>\n",
              "      <td>0</td>\n",
              "    </tr>\n",
              "    <tr>\n",
              "      <th>5</th>\n",
              "      <td>1</td>\n",
              "      <td>0</td>\n",
              "      <td>0</td>\n",
              "      <td>0</td>\n",
              "      <td>0</td>\n",
              "      <td>0</td>\n",
              "    </tr>\n",
              "    <tr>\n",
              "      <th>6</th>\n",
              "      <td>0</td>\n",
              "      <td>0</td>\n",
              "      <td>0</td>\n",
              "      <td>1</td>\n",
              "      <td>0</td>\n",
              "      <td>0</td>\n",
              "    </tr>\n",
              "    <tr>\n",
              "      <th>7</th>\n",
              "      <td>1</td>\n",
              "      <td>0</td>\n",
              "      <td>0</td>\n",
              "      <td>0</td>\n",
              "      <td>0</td>\n",
              "      <td>0</td>\n",
              "    </tr>\n",
              "    <tr>\n",
              "      <th>8</th>\n",
              "      <td>0</td>\n",
              "      <td>0</td>\n",
              "      <td>0</td>\n",
              "      <td>0</td>\n",
              "      <td>1</td>\n",
              "      <td>0</td>\n",
              "    </tr>\n",
              "  </tbody>\n",
              "</table>\n",
              "</div>\n",
              "    <div class=\"colab-df-buttons\">\n",
              "\n",
              "  <div class=\"colab-df-container\">\n",
              "    <button class=\"colab-df-convert\" onclick=\"convertToInteractive('df-6235da58-47b3-42c9-99bb-41f3910b8d32')\"\n",
              "            title=\"Convert this dataframe to an interactive table.\"\n",
              "            style=\"display:none;\">\n",
              "\n",
              "  <svg xmlns=\"http://www.w3.org/2000/svg\" height=\"24px\" viewBox=\"0 -960 960 960\">\n",
              "    <path d=\"M120-120v-720h720v720H120Zm60-500h600v-160H180v160Zm220 220h160v-160H400v160Zm0 220h160v-160H400v160ZM180-400h160v-160H180v160Zm440 0h160v-160H620v160ZM180-180h160v-160H180v160Zm440 0h160v-160H620v160Z\"/>\n",
              "  </svg>\n",
              "    </button>\n",
              "\n",
              "  <style>\n",
              "    .colab-df-container {\n",
              "      display:flex;\n",
              "      gap: 12px;\n",
              "    }\n",
              "\n",
              "    .colab-df-convert {\n",
              "      background-color: #E8F0FE;\n",
              "      border: none;\n",
              "      border-radius: 50%;\n",
              "      cursor: pointer;\n",
              "      display: none;\n",
              "      fill: #1967D2;\n",
              "      height: 32px;\n",
              "      padding: 0 0 0 0;\n",
              "      width: 32px;\n",
              "    }\n",
              "\n",
              "    .colab-df-convert:hover {\n",
              "      background-color: #E2EBFA;\n",
              "      box-shadow: 0px 1px 2px rgba(60, 64, 67, 0.3), 0px 1px 3px 1px rgba(60, 64, 67, 0.15);\n",
              "      fill: #174EA6;\n",
              "    }\n",
              "\n",
              "    .colab-df-buttons div {\n",
              "      margin-bottom: 4px;\n",
              "    }\n",
              "\n",
              "    [theme=dark] .colab-df-convert {\n",
              "      background-color: #3B4455;\n",
              "      fill: #D2E3FC;\n",
              "    }\n",
              "\n",
              "    [theme=dark] .colab-df-convert:hover {\n",
              "      background-color: #434B5C;\n",
              "      box-shadow: 0px 1px 3px 1px rgba(0, 0, 0, 0.15);\n",
              "      filter: drop-shadow(0px 1px 2px rgba(0, 0, 0, 0.3));\n",
              "      fill: #FFFFFF;\n",
              "    }\n",
              "  </style>\n",
              "\n",
              "    <script>\n",
              "      const buttonEl =\n",
              "        document.querySelector('#df-6235da58-47b3-42c9-99bb-41f3910b8d32 button.colab-df-convert');\n",
              "      buttonEl.style.display =\n",
              "        google.colab.kernel.accessAllowed ? 'block' : 'none';\n",
              "\n",
              "      async function convertToInteractive(key) {\n",
              "        const element = document.querySelector('#df-6235da58-47b3-42c9-99bb-41f3910b8d32');\n",
              "        const dataTable =\n",
              "          await google.colab.kernel.invokeFunction('convertToInteractive',\n",
              "                                                    [key], {});\n",
              "        if (!dataTable) return;\n",
              "\n",
              "        const docLinkHtml = 'Like what you see? Visit the ' +\n",
              "          '<a target=\"_blank\" href=https://colab.research.google.com/notebooks/data_table.ipynb>data table notebook</a>'\n",
              "          + ' to learn more about interactive tables.';\n",
              "        element.innerHTML = '';\n",
              "        dataTable['output_type'] = 'display_data';\n",
              "        await google.colab.output.renderOutput(dataTable, element);\n",
              "        const docLink = document.createElement('div');\n",
              "        docLink.innerHTML = docLinkHtml;\n",
              "        element.appendChild(docLink);\n",
              "      }\n",
              "    </script>\n",
              "  </div>\n",
              "\n",
              "\n",
              "<div id=\"df-16b4bab7-fe3d-4661-9d27-86cc633a9911\">\n",
              "  <button class=\"colab-df-quickchart\" onclick=\"quickchart('df-16b4bab7-fe3d-4661-9d27-86cc633a9911')\"\n",
              "            title=\"Suggest charts.\"\n",
              "            style=\"display:none;\">\n",
              "\n",
              "<svg xmlns=\"http://www.w3.org/2000/svg\" height=\"24px\"viewBox=\"0 0 24 24\"\n",
              "     width=\"24px\">\n",
              "    <g>\n",
              "        <path d=\"M19 3H5c-1.1 0-2 .9-2 2v14c0 1.1.9 2 2 2h14c1.1 0 2-.9 2-2V5c0-1.1-.9-2-2-2zM9 17H7v-7h2v7zm4 0h-2V7h2v10zm4 0h-2v-4h2v4z\"/>\n",
              "    </g>\n",
              "</svg>\n",
              "  </button>\n",
              "\n",
              "<style>\n",
              "  .colab-df-quickchart {\n",
              "      --bg-color: #E8F0FE;\n",
              "      --fill-color: #1967D2;\n",
              "      --hover-bg-color: #E2EBFA;\n",
              "      --hover-fill-color: #174EA6;\n",
              "      --disabled-fill-color: #AAA;\n",
              "      --disabled-bg-color: #DDD;\n",
              "  }\n",
              "\n",
              "  [theme=dark] .colab-df-quickchart {\n",
              "      --bg-color: #3B4455;\n",
              "      --fill-color: #D2E3FC;\n",
              "      --hover-bg-color: #434B5C;\n",
              "      --hover-fill-color: #FFFFFF;\n",
              "      --disabled-bg-color: #3B4455;\n",
              "      --disabled-fill-color: #666;\n",
              "  }\n",
              "\n",
              "  .colab-df-quickchart {\n",
              "    background-color: var(--bg-color);\n",
              "    border: none;\n",
              "    border-radius: 50%;\n",
              "    cursor: pointer;\n",
              "    display: none;\n",
              "    fill: var(--fill-color);\n",
              "    height: 32px;\n",
              "    padding: 0;\n",
              "    width: 32px;\n",
              "  }\n",
              "\n",
              "  .colab-df-quickchart:hover {\n",
              "    background-color: var(--hover-bg-color);\n",
              "    box-shadow: 0 1px 2px rgba(60, 64, 67, 0.3), 0 1px 3px 1px rgba(60, 64, 67, 0.15);\n",
              "    fill: var(--button-hover-fill-color);\n",
              "  }\n",
              "\n",
              "  .colab-df-quickchart-complete:disabled,\n",
              "  .colab-df-quickchart-complete:disabled:hover {\n",
              "    background-color: var(--disabled-bg-color);\n",
              "    fill: var(--disabled-fill-color);\n",
              "    box-shadow: none;\n",
              "  }\n",
              "\n",
              "  .colab-df-spinner {\n",
              "    border: 2px solid var(--fill-color);\n",
              "    border-color: transparent;\n",
              "    border-bottom-color: var(--fill-color);\n",
              "    animation:\n",
              "      spin 1s steps(1) infinite;\n",
              "  }\n",
              "\n",
              "  @keyframes spin {\n",
              "    0% {\n",
              "      border-color: transparent;\n",
              "      border-bottom-color: var(--fill-color);\n",
              "      border-left-color: var(--fill-color);\n",
              "    }\n",
              "    20% {\n",
              "      border-color: transparent;\n",
              "      border-left-color: var(--fill-color);\n",
              "      border-top-color: var(--fill-color);\n",
              "    }\n",
              "    30% {\n",
              "      border-color: transparent;\n",
              "      border-left-color: var(--fill-color);\n",
              "      border-top-color: var(--fill-color);\n",
              "      border-right-color: var(--fill-color);\n",
              "    }\n",
              "    40% {\n",
              "      border-color: transparent;\n",
              "      border-right-color: var(--fill-color);\n",
              "      border-top-color: var(--fill-color);\n",
              "    }\n",
              "    60% {\n",
              "      border-color: transparent;\n",
              "      border-right-color: var(--fill-color);\n",
              "    }\n",
              "    80% {\n",
              "      border-color: transparent;\n",
              "      border-right-color: var(--fill-color);\n",
              "      border-bottom-color: var(--fill-color);\n",
              "    }\n",
              "    90% {\n",
              "      border-color: transparent;\n",
              "      border-bottom-color: var(--fill-color);\n",
              "    }\n",
              "  }\n",
              "</style>\n",
              "\n",
              "  <script>\n",
              "    async function quickchart(key) {\n",
              "      const quickchartButtonEl =\n",
              "        document.querySelector('#' + key + ' button');\n",
              "      quickchartButtonEl.disabled = true;  // To prevent multiple clicks.\n",
              "      quickchartButtonEl.classList.add('colab-df-spinner');\n",
              "      try {\n",
              "        const charts = await google.colab.kernel.invokeFunction(\n",
              "            'suggestCharts', [key], {});\n",
              "      } catch (error) {\n",
              "        console.error('Error during call to suggestCharts:', error);\n",
              "      }\n",
              "      quickchartButtonEl.classList.remove('colab-df-spinner');\n",
              "      quickchartButtonEl.classList.add('colab-df-quickchart-complete');\n",
              "    }\n",
              "    (() => {\n",
              "      let quickchartButtonEl =\n",
              "        document.querySelector('#df-16b4bab7-fe3d-4661-9d27-86cc633a9911 button');\n",
              "      quickchartButtonEl.style.display =\n",
              "        google.colab.kernel.accessAllowed ? 'block' : 'none';\n",
              "    })();\n",
              "  </script>\n",
              "</div>\n",
              "    </div>\n",
              "  </div>\n"
            ]
          },
          "metadata": {},
          "execution_count": 11
        }
      ]
    },
    {
      "cell_type": "markdown",
      "source": [
        "# Difference between all the techniques:\n",
        "| Encoding Technique   | Description                                                      | Use Cases                                      | Pros                                                                                                                                                       | Cons                                                                                                                             |\n",
        "|----------------------|------------------------------------------------------------------|------------------------------------------------|---------------------------------------------------------------------------------------------------------------------------------------------------------------|-----------------------------------------------------------------------------------------------------------------------------------|\n",
        "| **One-Hot Encoding** | Converts categorical variables into binary vectors with one element for each category. | Nominal categorical data without a natural order. | Preserves the independence of categories. Compatible with most machine learning algorithms.                             | Can lead to high-dimensional datasets with many columns, potentially increasing computational complexity. |\n",
        "| **Label Encoding**   | Assigns a unique integer to each category or class.               | Ordinal categorical data with a natural order. | Simple and easy to implement. Suitable for algorithms that can interpret ordinal data.                                  | May introduce ordinality where it doesn't exist, potentially leading to misleading results.                                      |\n",
        "| **Dummy Encoding**   | Creates binary columns for each category, indicating the presence or absence of the category. | Nominal categorical data without a natural order. | Provides a straightforward way to handle categorical data for regression and classification.                                | Like one-hot encoding, can result in high dimensionality in the dataset.                                                        |\n",
        "| **Hash Encoding**    | Converts categories into fixed-length hash values.                | Nominal categorical data with many unique categories. | Reduces dimensionality compared to one-hot encoding, making it suitable for high-cardinality data.                      | May lead to collisions (different categories mapping to the same hash value), causing information loss.                   |\n",
        "| **Target Encoding**  | Uses the target variable's mean for each category as a new feature. | Classification tasks.                            | Incorporates target-related information into the encoding, potentially improving predictive performance. | Prone to overfitting if not properly regularized.                                                                         |\n",
        "| **Binary Encoding**  | Similar to one-hot encoding but uses binary values (0 and 1) instead of vectors. | Nominal categorical data with many unique categories. | Reduces dimensionality compared to one-hot encoding. Easier to handle for some models.                                  | May not capture the variability between categories as well as one-hot encoding.                        |\n",
        "\n",
        "Each encoding technique serves a specific purpose and is selected based on the type of categorical data and the machine learning algorithm you are using. Make sure to choose the one that best suits your data and model requirements."
      ],
      "metadata": {
        "id": "ym9VdL1lPc45"
      }
    }
  ]
}